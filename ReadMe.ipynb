{
 "cells": [
  {
   "cell_type": "markdown",
   "metadata": {},
   "source": [
    "# **DeepZork**\n",
    "***\n",
    "Can a machine learn to play a text-based game?"
   ]
  },
  {
   "cell_type": "markdown",
   "metadata": {},
   "source": [
    "<img src='zork_box_art.jpg'/>"
   ]
  },
  {
   "cell_type": "markdown",
   "metadata": {},
   "source": [
    "## Project Motivation\n",
    "***\n",
    "Advances in machine learning involving reinforcement learning has seen the rise of AIs capable of playing video games and outperforming human players. These include all sorts of games from chess and Go to Atari games. All of these instances involve games in which gameplay is based on visuals. Using convolutional neural networks, machines become quite capable of recognizing patterns in changing pixels on a screen and can react in real-time in order to win. \n",
    "\n",
    "Enter text-based games.\n",
    "\n",
    "Also known as interactive fiction games, text-based games were some of the first ever computer games due to relying solely on text for gameplay and not needing to process graphics. They rely on language parsing text commands given by the player in response to changing descriptions of the player's environment. \n",
    "\n",
    "This presents a whole different type of problem for AIs attempting to play one of these games. In text-based games, reaction time is not a factor. Instead, the player must have an understanding of the language used and to be able to make smart decisions based off of subtle hints in the game's descriptions.\n",
    "\n",
    "For example, if a game tells the player that, to the north lies a monster that will kill the player if they head that direction, the player should know not to go that way.\n",
    "\n",
    "There have been some attempts at teaching machines to play text-based games with a key example being __TextWorld__ by Microsoft with variable success. There is still, however, a long way to go before an interactive fiction AI will perform at the level of AlphaGo or AlphaZero.\n",
    "\n",
    "This project will aide in tackling the issue by focusing on teaching a machine to play one single game - Zork - in hopes that the techniques used can be applied to other games in the future. \n"
   ]
  },
  {
   "cell_type": "markdown",
   "metadata": {},
   "source": [
    "## About Zork\n",
    "***\n",
    "### History\n",
    "***\n",
    "One of the most classic and well-known text-based game, Zork I (also known as Zork: The Great Underground Empire), was written in the late 1970s. At the time it was well-revered for its compelling story-telling and also its language parsing engines which allowed players to use not only simple commands ('Attack monster') but more complex ones with prepositions ('Attack the monster with the sword'). It was one of the most successful works of interactive fiction and its legacy is still alive today with many elements still being used in newer works\n",
    "\n",
    "### Plot\n",
    "***\n",
    "Zork is first and foremost an adventure game. The ultimate goal of the game is to collect all 19 different treasures and install them in a trophy case. To do so, the player must explore all areas of the game, including a sprawling underground dungeon.\n",
    "\n",
    "### Map\n",
    "***\n",
    "Below are two maps of the Zork world - above and below ground. As you can see it's a very large map with many different rooms and paths between them. Note that the player always starts at **West of House** on the above ground map.\n",
    "\n",
    "\n",
    "<img src='zork_map_1.gif'/> <img src='zork_map_2.gif'/>"
   ]
  },
  {
   "cell_type": "markdown",
   "metadata": {},
   "source": [
    "## Prework\n",
    "***\n",
    "### Commands\n",
    "There are three types of commands used in Zork.\n",
    "\n",
    "1) Basic commands - commands to go a certain direction, commands to get info\n",
    "        - Go north, go south\n",
    "        - Look, check inventory\n",
    "2) Verb-Object commands - commands that consist of a verb and a noun or noun phrase\n",
    "        - Take key, open the door\n",
    "3) Verb-Object-Prep-Object commands - commands that consist of a verb and noun phrase followed by a preposition and second noun phrase\n",
    "        - Attack the monster with the sword, unlock the chest with the key\n",
    "    \n",
    "The objects in these commands can be gathered from the descriptions in-game. The verbs however need to be provide beforehand.\n",
    "\n",
    "### Verb dictionary\n",
    "\n",
    "To generate a list of possible verbs used in commands, info from the game file itself was gathered using ZTools (https://www.inform-fiction.org/zmachine/ztools.html).\n",
    "The text was processed using Matcher and POS from the <b>spacy</b> library to find all the possible verbs and verb phrases. This can be seen in the ZorkVerbs notebook.\n",
    "\n",
    "This list was then manually picked through to remove commands that would not influence gameplay (commands that save the game, change the text descriptions, etc.)\n",
    "\n",
    "Also, for the 2nd type of commands, the noun phrase was replaced with 'OBJ' and for the 3rd type of commands the first noun phrases were replaced with 'OBJ' and the second with 'DCT' to allow for easy substitution of nouns.\n",
    "\n",
    "The commands were then combined into a <i>commands</i> class and stored in a seperate script file (game_commands.py). The lists can be seen below."
   ]
  },
  {
   "cell_type": "code",
   "execution_count": 3,
   "metadata": {},
   "outputs": [],
   "source": [
    "from game_commands import commands\n",
    "cmd = commands()"
   ]
  },
  {
   "cell_type": "code",
   "execution_count": 11,
   "metadata": {},
   "outputs": [
    {
     "data": {
      "text/plain": [
       "['go north',\n",
       " 'go south',\n",
       " 'go west',\n",
       " 'go east',\n",
       " 'go northeast',\n",
       " 'go northwest',\n",
       " 'go southeast',\n",
       " 'go southwest',\n",
       " 'd',\n",
       " 'u']"
      ]
     },
     "execution_count": 11,
     "metadata": {},
     "output_type": "execute_result"
    }
   ],
   "source": [
    "## Basic commands\n",
    "cmd.basic_actions"
   ]
  },
  {
   "cell_type": "code",
   "execution_count": 7,
   "metadata": {},
   "outputs": [
    {
     "data": {
      "text/plain": [
       "['open OBJ',\n",
       " 'get OBJ',\n",
       " 'set OBJ',\n",
       " 'hit OBJ',\n",
       " 'eat OBJ',\n",
       " 'put OBJ',\n",
       " 'cut OBJ',\n",
       " 'dig OBJ',\n",
       " 'ask OBJ',\n",
       " 'fix OBJ',\n",
       " 'make OBJ',\n",
       " 'wear OBJ',\n",
       " 'move OBJ',\n",
       " 'kick OBJ',\n",
       " 'kill OBJ',\n",
       " 'find OBJ',\n",
       " 'play OBJ',\n",
       " 'feel OBJ',\n",
       " 'hide OBJ',\n",
       " 'read OBJ',\n",
       " 'fill OBJ',\n",
       " 'flip OBJ',\n",
       " 'burn OBJ',\n",
       " 'pick OBJ',\n",
       " 'pour OBJ',\n",
       " 'pull OBJ',\n",
       " 'apply OBJ',\n",
       " 'leave OBJ',\n",
       " 'ask OBJ',\n",
       " 'break OBJ',\n",
       " 'enter OBJ',\n",
       " 'curse OBJ',\n",
       " 'shake OBJ',\n",
       " 'burn OBJ',\n",
       " 'inflate OBJ',\n",
       " 'brandish OBJ',\n",
       " 'donate OBJ',\n",
       " 'squeeze OBJ',\n",
       " 'attach OBJ',\n",
       " 'find OBJ',\n",
       " 'banish OBJ',\n",
       " 'read OBJ',\n",
       " 'enchant OBJ',\n",
       " 'feel OBJ',\n",
       " 'pour OBJ']"
      ]
     },
     "execution_count": 7,
     "metadata": {},
     "output_type": "execute_result"
    }
   ],
   "source": [
    "## Verb-object commands\n",
    "cmd.command1_actions"
   ]
  },
  {
   "cell_type": "code",
   "execution_count": 8,
   "metadata": {},
   "outputs": [
    {
     "data": {
      "text/plain": [
       "['pour OBJ on DCT',\n",
       " 'hide OBJ in DCT',\n",
       " 'pour OBJ in DCT',\n",
       " 'move OBJ in DCT',\n",
       " 'hide OBJ on DCT',\n",
       " 'flip OBJ for DCT',\n",
       " 'fix OBJ with DCT',\n",
       " 'spray OBJ on DCT',\n",
       " 'dig OBJ with DCT',\n",
       " 'cut OBJ with DCT',\n",
       " 'pick OBJ with DCT',\n",
       " 'squeeze OBJ on DCT',\n",
       " 'pour OBJ from DCT',\n",
       " 'fill OBJ with DCT',\n",
       " 'brandish OBJ at DCT',\n",
       " 'burn OBJ with DCT',\n",
       " 'flip OBJ with DCT',\n",
       " 'read OBJ with DCT',\n",
       " 'hide OBJ under DCT',\n",
       " 'carry OBJ from DCT',\n",
       " 'inflate OBJ with DCT',\n",
       " 'unlock OBJ with DCT',\n",
       " 'give OBJ to DCT',\n",
       " 'carry OBJ to DCT',\n",
       " 'spray OBJ with DCT']"
      ]
     },
     "execution_count": 8,
     "metadata": {},
     "output_type": "execute_result"
    }
   ],
   "source": [
    "## Verb-object-prep-object commands\n",
    "cmd.command2_actions"
   ]
  },
  {
   "cell_type": "markdown",
   "metadata": {},
   "source": [
    "### Command likelihood\n",
    "***\n",
    "When the nouns from the game's descriptions are substituted into the above commands, certain combinations might not make much sense. For example, if there is a door and a table in the environment, the command \"cut the door with the key\" would not make any sense.\n",
    "\n",
    "To help with this problem, walkthroughs and tutorials from other text-based games can be studied to have a way to determine the relevance and likelihood of different commands.\n",
    "\n",
    "This can all be found in the scrape_tutorials notebook but the basic idea is that tutorials and walkthroughs from two databases - https://www.ifarchive.org/indexes/if-archive/solutions/ and http://www.textfiles.com/adventure/ were scraped using __urllib__ and __BeautifulSoup__ to get text files containing relevant commands for these games.\n",
    "\n",
    "Those text files were then clean, preprocessed, and combined into one single file. The entire corpus was then ran through NLP using __spacy__.\n",
    "\n",
    "To determine likelihood of command phrases, a Word2Vec model was used to determine the similarity score.\n",
    "\n",
    "An example of this usage can be seen below."
   ]
  },
  {
   "cell_type": "code",
   "execution_count": 13,
   "metadata": {},
   "outputs": [],
   "source": [
    "from nltk.tokenize import word_tokenize\n",
    "from gensim.models import Word2Vec\n",
    "f = open('tutorials_2.txt', 'r')\n",
    "tutorials = f.read()\n",
    "sentences = word_tokenize(tutorials)\n",
    "w2v = Word2Vec([sentences])"
   ]
  },
  {
   "cell_type": "code",
   "execution_count": 56,
   "metadata": {},
   "outputs": [
    {
     "data": {
      "text/plain": [
       "0.1603776"
      ]
     },
     "execution_count": 56,
     "metadata": {},
     "output_type": "execute_result"
    }
   ],
   "source": [
    "w2v.wv.similarity('open', 'table')"
   ]
  },
  {
   "cell_type": "code",
   "execution_count": 57,
   "metadata": {},
   "outputs": [
    {
     "data": {
      "text/plain": [
       "0.97911215"
      ]
     },
     "execution_count": 57,
     "metadata": {},
     "output_type": "execute_result"
    }
   ],
   "source": [
    "w2v.wv.similarity('open', 'chest')"
   ]
  },
  {
   "cell_type": "code",
   "execution_count": 58,
   "metadata": {},
   "outputs": [
    {
     "data": {
      "text/plain": [
       "0.39725515"
      ]
     },
     "execution_count": 58,
     "metadata": {},
     "output_type": "execute_result"
    }
   ],
   "source": [
    "w2v.wv.similarity(word_tokenize('break chest with'), 'key').mean()"
   ]
  },
  {
   "cell_type": "code",
   "execution_count": 59,
   "metadata": {},
   "outputs": [
    {
     "data": {
      "text/plain": [
       "0.4157865"
      ]
     },
     "execution_count": 59,
     "metadata": {},
     "output_type": "execute_result"
    }
   ],
   "source": [
    "w2v.wv.similarity(word_tokenize('unlock chest with'), 'key').mean()"
   ]
  },
  {
   "cell_type": "markdown",
   "metadata": {},
   "source": []
  }
 ],
 "metadata": {
  "kernelspec": {
   "display_name": "Python 3",
   "language": "python",
   "name": "python3"
  },
  "language_info": {
   "codemirror_mode": {
    "name": "ipython",
    "version": 3
   },
   "file_extension": ".py",
   "mimetype": "text/x-python",
   "name": "python",
   "nbconvert_exporter": "python",
   "pygments_lexer": "ipython3",
   "version": "3.6.7"
  }
 },
 "nbformat": 4,
 "nbformat_minor": 2
}
