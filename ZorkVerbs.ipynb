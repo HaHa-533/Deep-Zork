{
 "cells": [
  {
   "cell_type": "code",
   "execution_count": 105,
   "metadata": {},
   "outputs": [
    {
     "name": "stderr",
     "output_type": "stream",
     "text": [
      "[nltk_data] Downloading package averaged_perceptron_tagger to\n",
      "[nltk_data]     C:\\Users\\sparr\\AppData\\Roaming\\nltk_data...\n",
      "[nltk_data]   Package averaged_perceptron_tagger is already up-to-\n",
      "[nltk_data]       date!\n",
      "[nltk_data] Downloading package wordnet to\n",
      "[nltk_data]     C:\\Users\\sparr\\AppData\\Roaming\\nltk_data...\n",
      "[nltk_data]   Package wordnet is already up-to-date!\n"
     ]
    }
   ],
   "source": [
    "from subprocess import Popen, PIPE, STDOUT\n",
    "from queue import Queue, Empty\n",
    "from threading  import Thread\n",
    "from time import sleep\n",
    "import os\n",
    "import urllib\n",
    "import requests\n",
    "from bs4 import BeautifulSoup\n",
    "import re\n",
    "import ast\n",
    "import nltk\n",
    "from nltk import sent_tokenize\n",
    "import string\n",
    "import pickle\n",
    "from spacy.matcher import Matcher\n",
    "from spacy.attrs import POS\n",
    "import spacy\n",
    "import requests\n",
    "import pandas as pd\n",
    "nltk.download('averaged_perceptron_tagger')\n",
    "nltk.download('wordnet')\n",
    "nlp = spacy.load('en_core_web_sm')"
   ]
  },
  {
   "cell_type": "code",
   "execution_count": 11,
   "metadata": {},
   "outputs": [],
   "source": [
    "matcher = Matcher(nlp.vocab)\n",
    "matcher.add('Action-Determiner-Object', None, [{POS: 'VERB'}, {POS: 'DET', 'OP':'*'}, {POS: 'ADJ', 'OP':'*'}, {POS: 'NOUN'}])"
   ]
  },
  {
   "cell_type": "code",
   "execution_count": 12,
   "metadata": {},
   "outputs": [],
   "source": [
    "matcher2 = Matcher(nlp.vocab)\n",
    "matcher2.add('Action-Determiner-Object', None, [{POS: 'VERB'}, {POS: 'DET', 'OP':'*'}, {POS: 'ADJ', 'OP':'*'}, {POS: 'NOUN'},\n",
    "                                               {POS: 'ADP'}, {POS: 'DET', 'OP':'*'}, {POS: 'ADJ', 'OP':'*'}, {POS: 'NOUN'}])"
   ]
  },
  {
   "cell_type": "code",
   "execution_count": 69,
   "metadata": {},
   "outputs": [],
   "source": [
    "matcher3 = Matcher(nlp.vocab)\n",
    "matcher3.add('Action-Determiner-Object', None, [{POS: 'VERB'}])"
   ]
  },
  {
   "cell_type": "code",
   "execution_count": 1,
   "metadata": {},
   "outputs": [],
   "source": [
    "def getZorkGrammar():\n",
    "    file_name = 'zork1.z5'\n",
    "    p = Popen(['infodump.exe', '-g', file_name], stdin=PIPE, stdout=PIPE, stderr=PIPE, shell=True)\n",
    "    text = p.communicate()[0].decode('utf-8', errors='ignore').strip()\n",
    "    f = open(file_name[:-3] + '.txt', 'w')\n",
    "    f.write(text)\n",
    "    f.close()\n",
    "    p.terminate()\n",
    "    p.kill()"
   ]
  },
  {
   "cell_type": "code",
   "execution_count": 4,
   "metadata": {},
   "outputs": [],
   "source": [
    "getZorkGrammar()"
   ]
  },
  {
   "cell_type": "code",
   "execution_count": 117,
   "metadata": {},
   "outputs": [],
   "source": [
    "f = open('zork1.txt', 'r')\n",
    "zorkGrammar = f.read()\n",
    "f.close()"
   ]
  },
  {
   "cell_type": "code",
   "execution_count": 118,
   "metadata": {},
   "outputs": [],
   "source": [
    "zorkGrammar = re.sub(r'([^\\s\\w]|_)+', '', zorkGrammar.strip()).replace('OBJ', 'object').lower()"
   ]
  },
  {
   "cell_type": "code",
   "execution_count": 119,
   "metadata": {},
   "outputs": [],
   "source": [
    "zorkCommands = []\n",
    "zorkCommands2 = []"
   ]
  },
  {
   "cell_type": "code",
   "execution_count": 120,
   "metadata": {},
   "outputs": [],
   "source": [
    "doc = nlp(zorkGrammar)\n",
    "matches = matcher(doc)\n",
    "matches2 = matcher2(doc)\n",
    "matches3 = matcher3(doc)\n",
    "for match_id, start, end in matches3:\n",
    "    span = doc[start:end].text\n",
    "    zorkCommands.append(span)\n",
    "for match_id, start, end in matches:\n",
    "    span = doc[start:end].text\n",
    "    zorkCommands.append(span)\n",
    "for match_id, start, end in matches2:\n",
    "    span = doc[start:end].text\n",
    "    zorkCommands.append(span)"
   ]
  },
  {
   "cell_type": "code",
   "execution_count": 121,
   "metadata": {},
   "outputs": [],
   "source": [
    "z = sorted(list(set(zorkCommands)), key=len)"
   ]
  },
  {
   "cell_type": "code",
   "execution_count": 122,
   "metadata": {},
   "outputs": [],
   "source": [
    "z.remove('f5')\n",
    "z.remove('synonyms')\n",
    "z.remove('prepositions')"
   ]
  },
  {
   "cell_type": "code",
   "execution_count": 123,
   "metadata": {},
   "outputs": [],
   "source": [
    "z = [p.replace('synonyms', 'object') for p in z]"
   ]
  },
  {
   "cell_type": "code",
   "execution_count": 124,
   "metadata": {},
   "outputs": [
    {
     "data": {
      "text/plain": [
       "['d',\n",
       " 's',\n",
       " 'is',\n",
       " 'go',\n",
       " 'ca',\n",
       " 've',\n",
       " 'hit',\n",
       " 'win',\n",
       " 'cut',\n",
       " 'put',\n",
       " 'sit',\n",
       " 'see',\n",
       " 'dig',\n",
       " 'set',\n",
       " 'eat',\n",
       " 'get',\n",
       " 'fix',\n",
       " 'say',\n",
       " 'ask',\n",
       " 'dive',\n",
       " 'move',\n",
       " 'skim',\n",
       " 'slay',\n",
       " 'make',\n",
       " 'kick',\n",
       " 'blow',\n",
       " 'save',\n",
       " 'give',\n",
       " 'pour',\n",
       " 'take',\n",
       " 'find',\n",
       " 'lose',\n",
       " 'lift',\n",
       " 'open',\n",
       " 'toss',\n",
       " 'come',\n",
       " 'pump',\n",
       " 'wait',\n",
       " 'play',\n",
       " 'swim',\n",
       " 'pick',\n",
       " 'flip',\n",
       " 'read',\n",
       " 'wear',\n",
       " 'kill',\n",
       " 'hide',\n",
       " 'echo',\n",
       " 'send',\n",
       " 'melt',\n",
       " 'wake',\n",
       " 'tell',\n",
       " 'stay',\n",
       " 'roll',\n",
       " 'pull',\n",
       " 'burn',\n",
       " 'quit',\n",
       " 'pray',\n",
       " 'lean',\n",
       " 'wade',\n",
       " 'feel',\n",
       " 'zork',\n",
       " 'wish',\n",
       " 'fill',\n",
       " 'climb',\n",
       " 'bathe',\n",
       " 'swing',\n",
       " 'shout',\n",
       " 'curse',\n",
       " 'enter',\n",
       " 'break',\n",
       " 'leave',\n",
       " 'block',\n",
       " 'raise',\n",
       " 'knock',\n",
       " 'stand',\n",
       " 'using',\n",
       " 'shake',\n",
       " 'carry',\n",
       " 'spray',\n",
       " 'apply',\n",
       " 'treasu',\n",
       " 'exting',\n",
       " 'banish',\n",
       " 'froboz',\n",
       " 'unlock',\n",
       " 'diagno',\n",
       " 'brandi',\n",
       " 'donate',\n",
       " 'remove',\n",
       " 'scream',\n",
       " 'thrust',\n",
       " 'ulysse',\n",
       " 'inflat',\n",
       " 'listen',\n",
       " 'versio',\n",
       " 'squeez',\n",
       " 'enchan',\n",
       " 'object',\n",
       " 'repent',\n",
       " 'attach',\n",
       " 'get grab',\n",
       " 'see seek',\n",
       " 'set shut',\n",
       " 'hit hurt',\n",
       " 'go object',\n",
       " 'eat taste',\n",
       " 'put stuff',\n",
       " 'is zork1z5',\n",
       " 'cut object',\n",
       " 'dig object',\n",
       " 'shout yell',\n",
       " 'ask object',\n",
       " 'fix object',\n",
       " 'give offer',\n",
       " 'make object',\n",
       " 'wear object',\n",
       " 'move object',\n",
       " 'kick object',\n",
       " 'kill murder',\n",
       " 'find object',\n",
       " 'play object',\n",
       " 'feel object',\n",
       " 'hide object',\n",
       " 'read object',\n",
       " 'come follow',\n",
       " 'fill object',\n",
       " 'go object',\n",
       " 'flip object',\n",
       " 'burn object',\n",
       " 'pick object',\n",
       " 'pour object',\n",
       " 'pull object',\n",
       " 'apply object',\n",
       " 'leave object',\n",
       " 'ask object',\n",
       " 'break damage',\n",
       " 'enter object',\n",
       " 'curse object',\n",
       " 'shake object',\n",
       " 'carry object',\n",
       " 'spray object',\n",
       " 'burn object',\n",
       " 'inflat object',\n",
       " 'brandi object',\n",
       " 'donate object',\n",
       " 'squeez object',\n",
       " 'attach object',\n",
       " 'find object',\n",
       " 'unlock object',\n",
       " 'banish object',\n",
       " 'read object',\n",
       " 'wait object',\n",
       " 'enchan object',\n",
       " 'feel object',\n",
       " 'pour object',\n",
       " 'pour object on object',\n",
       " 'hide object in object',\n",
       " 'pour object in object',\n",
       " 'move object in object',\n",
       " 'hide object on object',\n",
       " 'flip object for object',\n",
       " 'fix object with object',\n",
       " 'spray object on object',\n",
       " 'dig object with object',\n",
       " 'cut object with object',\n",
       " 'pick object with object',\n",
       " 'squeez object on object',\n",
       " 'pour object from object',\n",
       " 'fill object with object',\n",
       " 'brandi object at object',\n",
       " 'burn object with object',\n",
       " 'flip object with object',\n",
       " 'read object with object',\n",
       " 'hide object under object',\n",
       " 'carry object from object',\n",
       " 'inflat object with object']"
      ]
     },
     "execution_count": 124,
     "metadata": {},
     "output_type": "execute_result"
    }
   ],
   "source": [
    "z"
   ]
  },
  {
   "cell_type": "code",
   "execution_count": null,
   "metadata": {},
   "outputs": [],
   "source": []
  }
 ],
 "metadata": {
  "kernelspec": {
   "display_name": "Python 3",
   "language": "python",
   "name": "python3"
  },
  "language_info": {
   "codemirror_mode": {
    "name": "ipython",
    "version": 3
   },
   "file_extension": ".py",
   "mimetype": "text/x-python",
   "name": "python",
   "nbconvert_exporter": "python",
   "pygments_lexer": "ipython3",
   "version": "3.6.7"
  }
 },
 "nbformat": 4,
 "nbformat_minor": 2
}
